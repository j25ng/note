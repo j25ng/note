{
 "cells": [
  {
   "cell_type": "code",
   "execution_count": 1,
   "id": "265d2aaa-0bbf-4c51-9849-a5848626cbb7",
   "metadata": {},
   "outputs": [],
   "source": [
    "import pandas as pd"
   ]
  },
  {
   "cell_type": "code",
   "execution_count": 11,
   "id": "6bdcc320-8242-47cb-bd8c-0c732fa31dea",
   "metadata": {},
   "outputs": [],
   "source": [
    "df = pd.read_parquet('~/tmp/test_parquet')"
   ]
  },
  {
   "cell_type": "code",
   "execution_count": 12,
   "id": "520b9854-488b-4c61-a0d1-55c53eb65377",
   "metadata": {},
   "outputs": [
    {
     "data": {
      "text/plain": [
       "multiMovieYn\n",
       "unknown    140\n",
       "N           70\n",
       "Y           70\n",
       "Name: count, dtype: int64"
      ]
     },
     "execution_count": 12,
     "metadata": {},
     "output_type": "execute_result"
    }
   ],
   "source": [
    "df['multiMovieYn'] = df['multiMovieYn'].astype('object')\n",
    "df['multiMovieYn'] = df['multiMovieYn'].fillna('unknown')\n",
    "df['multiMovieYn'].value_counts()"
   ]
  },
  {
   "cell_type": "code",
   "execution_count": 14,
   "id": "da7b0195-d563-4f3c-a3d5-39b5a253b7a2",
   "metadata": {},
   "outputs": [],
   "source": [
    "read_df = pd.read_parquet('~/tmp/test_parquet')\n",
    "cols = [\n",
    "        'movieCd', #영화의 대표코드를 출력합니다.\n",
    "        'movieNm', #영화명(국문)을 출력합니다.\n",
    "        'openDt', #영화의 개봉일을 출력합니다.\n",
    "        'audiCnt', #해당일의 관객수를 출력합니다.\n",
    "        'load_dt', # 입수일자\n",
    "        'multiMovieYn', #다양성영화 유무\n",
    "        'repNationCd', #한국외국영화 유무\n",
    "    ]\n",
    "df = read_df[cols]"
   ]
  },
  {
   "cell_type": "code",
   "execution_count": 18,
   "id": "c6ed0b37-a180-474c-8a7f-bcd9507d5ca9",
   "metadata": {},
   "outputs": [
    {
     "data": {
      "text/html": [
       "<div>\n",
       "<style scoped>\n",
       "    .dataframe tbody tr th:only-of-type {\n",
       "        vertical-align: middle;\n",
       "    }\n",
       "\n",
       "    .dataframe tbody tr th {\n",
       "        vertical-align: top;\n",
       "    }\n",
       "\n",
       "    .dataframe thead th {\n",
       "        text-align: right;\n",
       "    }\n",
       "</style>\n",
       "<table border=\"1\" class=\"dataframe\">\n",
       "  <thead>\n",
       "    <tr style=\"text-align: right;\">\n",
       "      <th></th>\n",
       "      <th>movieCd</th>\n",
       "      <th>movieNm</th>\n",
       "      <th>openDt</th>\n",
       "      <th>audiCnt</th>\n",
       "      <th>load_dt</th>\n",
       "      <th>multiMovieYn</th>\n",
       "      <th>repNationCd</th>\n",
       "    </tr>\n",
       "  </thead>\n",
       "  <tbody>\n",
       "    <tr>\n",
       "      <th>275</th>\n",
       "      <td>20242349</td>\n",
       "      <td>이준호 콘서트 : 다시 만나는 날</td>\n",
       "      <td>2024-07-24</td>\n",
       "      <td>487</td>\n",
       "      <td>20240730</td>\n",
       "      <td>NaN</td>\n",
       "      <td>K</td>\n",
       "    </tr>\n",
       "    <tr>\n",
       "      <th>276</th>\n",
       "      <td>20224666</td>\n",
       "      <td>파일럿</td>\n",
       "      <td>2024-07-31</td>\n",
       "      <td>320</td>\n",
       "      <td>20240730</td>\n",
       "      <td>NaN</td>\n",
       "      <td>K</td>\n",
       "    </tr>\n",
       "    <tr>\n",
       "      <th>277</th>\n",
       "      <td>20236400</td>\n",
       "      <td>조선인 여공의 노래</td>\n",
       "      <td>2024-08-07</td>\n",
       "      <td>298</td>\n",
       "      <td>20240730</td>\n",
       "      <td>NaN</td>\n",
       "      <td>K</td>\n",
       "    </tr>\n",
       "    <tr>\n",
       "      <th>278</th>\n",
       "      <td>20231042</td>\n",
       "      <td>빅토리</td>\n",
       "      <td>2024-08-14</td>\n",
       "      <td>247</td>\n",
       "      <td>20240730</td>\n",
       "      <td>NaN</td>\n",
       "      <td>K</td>\n",
       "    </tr>\n",
       "    <tr>\n",
       "      <th>279</th>\n",
       "      <td>20225866</td>\n",
       "      <td>진주의 진주</td>\n",
       "      <td>2024-07-24</td>\n",
       "      <td>180</td>\n",
       "      <td>20240730</td>\n",
       "      <td>NaN</td>\n",
       "      <td>K</td>\n",
       "    </tr>\n",
       "  </tbody>\n",
       "</table>\n",
       "</div>"
      ],
      "text/plain": [
       "      movieCd             movieNm      openDt audiCnt   load_dt multiMovieYn  \\\n",
       "275  20242349  이준호 콘서트 : 다시 만나는 날  2024-07-24     487  20240730          NaN   \n",
       "276  20224666                 파일럿  2024-07-31     320  20240730          NaN   \n",
       "277  20236400          조선인 여공의 노래  2024-08-07     298  20240730          NaN   \n",
       "278  20231042                 빅토리  2024-08-14     247  20240730          NaN   \n",
       "279  20225866              진주의 진주  2024-07-24     180  20240730          NaN   \n",
       "\n",
       "    repNationCd  \n",
       "275           K  \n",
       "276           K  \n",
       "277           K  \n",
       "278           K  \n",
       "279           K  "
      ]
     },
     "execution_count": 18,
     "metadata": {},
     "output_type": "execute_result"
    }
   ],
   "source": [
    "df.tail(5)"
   ]
  },
  {
   "cell_type": "code",
   "execution_count": null,
   "id": "f8d41160-bcf5-4f8c-9d97-147c9b738707",
   "metadata": {},
   "outputs": [],
   "source": [
    "# multiMovieYn이 null이 아닌 데이터와 repNationCd가 null이 아닌 데이터를 구분\n",
    "    df_multiMovieYn_notnull = df_where[df_where['multiMovieYn'].notnull()].drop(columns='repNationCd').reset_index(drop=True)\n",
    "    df_repNationCd_notnull = df_where[df_where['repNationCd'].notnull()].drop(columns='multiMovieYn').reset_index(drop=True)\n",
    "\n",
    "    # 필요한 열만 유지하면서 병합\n",
    "    merged_df = pd.merge(df_multiMovieYn_notnull, df_repNationCd_notnull[['movieCd', 'repNationCd']], on=['movieCd'], how='left')\n",
    "\n",
    "    return merged_df"
   ]
  }
 ],
 "metadata": {
  "kernelspec": {
   "display_name": "Python 3 (ipykernel)",
   "language": "python",
   "name": "python3"
  },
  "language_info": {
   "codemirror_mode": {
    "name": "ipython",
    "version": 3
   },
   "file_extension": ".py",
   "mimetype": "text/x-python",
   "name": "python",
   "nbconvert_exporter": "python",
   "pygments_lexer": "ipython3",
   "version": "3.11.9"
  }
 },
 "nbformat": 4,
 "nbformat_minor": 5
}
